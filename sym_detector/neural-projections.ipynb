{
 "cells": [
  {
   "cell_type": "code",
   "execution_count": 1,
   "metadata": {},
   "outputs": [
    {
     "name": "stdout",
     "output_type": "stream",
     "text": [
      "Populating the interactive namespace from numpy and matplotlib\n"
     ]
    },
    {
     "name": "stderr",
     "output_type": "stream",
     "text": [
      "Using TensorFlow backend.\n"
     ]
    }
   ],
   "source": [
    "%pylab inline --no-import-all\n",
    "import cv2\n",
    "import keras\n",
    "import tensorflow as tf\n",
    "from keras.layers import *\n",
    "from keras.models import Sequential, Model\n",
    "import keras.backend as K\n",
    "import sys\n",
    "import os\n",
    "import skimage\n",
    "import skimage.transform\n",
    "import skimage.exposure"
   ]
  },
  {
   "cell_type": "code",
   "execution_count": 2,
   "metadata": {},
   "outputs": [
    {
     "name": "stdout",
     "output_type": "stream",
     "text": [
      "(25, 100)\n"
     ]
    },
    {
     "data": {
      "image/png": "[encoded data removed]",
      "text/plain": [
       "<matplotlib.figure.Figure at 0x7f63ec3e5470>"
      ]
     },
     "metadata": {},
     "output_type": "display_data"
    }
   ],
   "source": [
    "sample_img = cv2.cvtColor(plt.imread(os.path.join(\"data/rus/segmentation/src/\", os.listdir(\"data/rus/segmentation/src\")[0])),\n",
    "                          cv2.COLOR_RGBA2GRAY)\n",
    "plt.imshow(sample_img, cmap='gray')\n",
    "print(sample_img.shape)"
   ]
  },
  {
   "cell_type": "code",
   "execution_count": 3,
   "metadata": {
    "collapsed": true
   },
   "outputs": [],
   "source": [
    "input_dim = (25, 100, 1)\n",
    "output_dim = (1, 100, 1)\n",
    "image_area = input_dim[0] * input_dim[1]"
   ]
  },
  {
   "cell_type": "code",
   "execution_count": 109,
   "metadata": {
    "collapsed": true
   },
   "outputs": [],
   "source": [
    "def train_data_gen(srcPath, dstPath, inputDim, outputDim, batchSize=100):\n",
    "    srcs = np.zeros((batchSize, *inputDim))\n",
    "    dsts = np.zeros((batchSize, *outputDim))\n",
    "    \n",
    "    for idx, src_node in enumerate(os.scandir(srcPath)):\n",
    "        i = idx % batchSize\n",
    "        src = cv2.cvtColor(plt.imread(src_node.path), cv2.COLOR_RGBA2GRAY)\n",
    "        dst = cv2.cvtColor(plt.imread(os.path.join(dstPath, src_node.name)), cv2.COLOR_RGBA2GRAY)\n",
    "        srcs[i, :] = src.reshape(inputDim)\n",
    "        dsts[i, :] = dst.reshape(outputDim)\n",
    "        if len(srcs) == batchSize:\n",
    "            yield srcs, dsts\n",
    "    yield srcs, dsts"
   ]
  },
  {
   "cell_type": "code",
   "execution_count": 110,
   "metadata": {},
   "outputs": [
    {
     "data": {
      "image/png": "[encoded data removed]",
      "text/plain": [
       "<matplotlib.figure.Figure at 0x7f6323aa1940>"
      ]
     },
     "metadata": {},
     "output_type": "display_data"
    }
   ],
   "source": [
    "src_path = \"data/rus/segmentation/src/\"\n",
    "dst_path = \"data/rus/segmentation/dst/\"\n",
    "\n",
    "for X, Y in train_data_gen(src_path, dst_path, input_dim, output_dim, batchSize=1):\n",
    "    src = X\n",
    "    dst = Y\n",
    "    plt.subplot(211)\n",
    "    plt.imshow(src.reshape(input_dim[:2]), cmap='hot_r')\n",
    "    plt.axis(\"off\")\n",
    "    plt.subplot(212)\n",
    "    plt.imshow(dst.reshape(output_dim[:2]), cmap='gray')\n",
    "    plt.axis(\"off\")\n",
    "    plt.subplots_adjust(hspace=-0.7)\n",
    "    break"
   ]
  },
  {
   "cell_type": "code",
   "execution_count": 111,
   "metadata": {},
   "outputs": [],
   "source": [
    "from keras.objectives import binary_crossentropy\n",
    "\n",
    "first_layer_filters = 64\n",
    "second_layer_filters = 32\n",
    "third_layer_filters = 32\n",
    "\n",
    "# sess = tf.Session()\n",
    "# K.set_session(sess)\n",
    "\n",
    "# inp = tf.placeholder(tf.float32, shape=(None, *input_dim))\n",
    "# out = tf.placeholder(tf.float32, shape=(None, *output_dim))\n",
    "\n",
    "# conv = Conv2D(first_layer_filters, (13, 1), activation='relu', name='conv1')(inp)\n",
    "# conv = Conv2D(second_layer_filters, (9, 1), activation='relu', name='conv2')(conv)\n",
    "# conv = Conv2D(third_layer_filters, (1, 21), activation='relu', padding='same', name='conv3')(conv)\n",
    "# conv = ZeroPadding2D(padding=(0, 2))(conv)\n",
    "# conv = Conv2D(1, (5, 5), name='conv_last')(conv)\n",
    "# preds = tf.sigmoid(conv)\n",
    "    \n",
    "# correct = tf.equal(preds > 0.5, out > 0.5)\n",
    "# accuracy = tf.reduce_mean(tf.cast(correct, tf.float32))\n",
    "\n",
    "# loss = tf.reduce_mean(K.binary_crossentropy(out, preds))\n",
    "\n",
    "# train_step = tf.train.AdamOptimizer().minimize(loss)\n",
    "\n",
    "# init_op = tf.global_variables_initializer()\n",
    "# sess.run(init_op)\n",
    "\n",
    "model = Sequential([\n",
    "    Conv2D(first_layer_filters, (17, 1), input_shape=input_dim, activation='relu', name='conv1'),\n",
    "    #Conv2D(second_layer_filters, (9, 1), activation='relu', name='conv2'),\n",
    "    ZeroPadding2D(padding=(0, 10)),\n",
    "    Conv2D(third_layer_filters, (5, 21), activation='relu', padding='valid', name='conv3'),\n",
    "    ZeroPadding2D(padding=(0, 2)),\n",
    "    Conv2D(1, (5, 5), activation='sigmoid', name='conv_last')\n",
    "])\n",
    "\n",
    "model.compile('adam', 'binary_crossentropy', metrics=['binary_accuracy'])"
   ]
  },
  {
   "cell_type": "code",
   "execution_count": 113,
   "metadata": {},
   "outputs": [
    {
     "name": "stdout",
     "output_type": "stream",
     "text": [
      "Epoch 1/1\n",
      "121/121 [==============================] - 14s - loss: 0.3511 - binary_accuracy: 0.8343    \n"
     ]
    }
   ],
   "source": [
    "from progressbar import FormatCustomText, ProgressBar, Counter, Bar\n",
    "\n",
    "def train(dataset, batch_size=10, epochs=1):\n",
    "    src_path = f\"data/{dataset}/segmentation/src/\"\n",
    "    dst_path = f\"data/{dataset}/segmentation/dst/\"\n",
    "\n",
    "    train_count = len(os.listdir(dst_path))\n",
    "    train_batches = train_count // batch_size\n",
    "\n",
    "    model.fit_generator(train_data_gen(src_path, dst_path, input_dim, output_dim, batch_size), steps_per_epoch=train_batches)\n",
    "    return\n",
    "    for epoch in range(epochs):\n",
    "        counter = Counter()\n",
    "        text = FormatCustomText('loss: %(loss).6f, acc: %(acc).6f', mapping={\"loss\": 1, \"acc\": 0})\n",
    "        progress = ProgressBar(widgets=['[' , counter, '/' , str(train_batches), '] ', Bar(), text], \n",
    "                               min_value = 1,\n",
    "                               max_value=train_batches,\n",
    "                               marker='-')\n",
    "\n",
    "        with sess.as_default():\n",
    "            for x, y in progress(train_data_gen(src_path, dst_path, input_dim, output_dim, batch_size)):\n",
    "                _, loss_value, acc_value = sess.run([train_step, loss, accuracy], feed_dict={inp: X, out: Y})\n",
    "                text.update_mapping(loss=loss_value, acc=acc_value)\n",
    "\n",
    "    \n",
    "train(\"rus\", 10, 1)\n",
    "#train(\"bel\", 10, 1)"
   ]
  },
  {
   "cell_type": "code",
   "execution_count": 117,
   "metadata": {},
   "outputs": [
    {
     "data": {
      "image/png": "[encoded data removed]",
      "text/plain": [
       "<matplotlib.figure.Figure at 0x7f6329c856d8>"
      ]
     },
     "metadata": {},
     "output_type": "display_data"
    }
   ],
   "source": [
    "def plot_predictions(dataset):\n",
    "    src_path = f\"data/{dataset}/segmentation/src\"\n",
    "    dst_path = f\"data/{dataset}/segmentation/dst\"\n",
    "    \n",
    "    filename = os.listdir(src_path)[10]\n",
    "    \n",
    "    src = cv2.cvtColor(plt.imread(os.path.join(src_path, filename)), cv2.COLOR_RGBA2GRAY)\n",
    "    src_reshaped = src.reshape((1, *input_dim))\n",
    "    dst = cv2.cvtColor(plt.imread(os.path.join(dst_path, filename)), cv2.COLOR_RGBA2GRAY)\n",
    "    dst_reshaped = dst.reshape((1, *output_dim))\n",
    "\n",
    "    predicted = sess.run(preds, feed_dict={inp: src_reshaped})\n",
    "    #predicted = model.predict(src_reshaped)\n",
    "    acc = sess.run(accuracy, feed_dict={inp: src_reshaped, out: dst_reshaped})\n",
    "\n",
    "    plt.subplot(411)\n",
    "    plt.imshow(src, cmap='gray')\n",
    "    plt.axis(\"off\")\n",
    "    plt.subplot(412)\n",
    "    plt.imshow(predicted.reshape(output_dim[:2]) * 255, cmap='gray')\n",
    "    plt.axis(\"off\")\n",
    "    plt.subplot(413)\n",
    "    plt.axis(\"off\")\n",
    "    plt.imshow(np.where(predicted > 0.5, 1, 0).reshape(output_dim[:2]), cmap='gray')\n",
    "    plt.subplot(414)\n",
    "    plt.axis(\"off\")\n",
    "    plt.imshow(dst, cmap='gray')\n",
    "    plt.subplots_adjust(hspace=-0.5)\n",
    "    \n",
    "\n",
    "plot_predictions(\"bel\")"
   ]
  },
  {
   "cell_type": "code",
   "execution_count": 119,
   "metadata": {},
   "outputs": [
    {
     "data": {
      "image/png": "[encoded data removed]",
      "text/plain": [
       "<matplotlib.figure.Figure at 0x7f6329c85208>"
      ]
     },
     "metadata": {},
     "output_type": "display_data"
    }
   ],
   "source": [
    "plot_predictions(\"rus\")"
   ]
  }
 ],
 "metadata": {
  "kernelspec": {
   "display_name": "Python 3",
   "language": "python",
   "name": "python3"
  },
  "language_info": {
   "codemirror_mode": {
    "name": "ipython",
    "version": 3
   },
   "file_extension": ".py",
   "mimetype": "text/x-python",
   "name": "python",
   "nbconvert_exporter": "python",
   "pygments_lexer": "ipython3",
   "version": "3.6.2"
  }
 },
 "nbformat": 4,
 "nbformat_minor": 2
}
