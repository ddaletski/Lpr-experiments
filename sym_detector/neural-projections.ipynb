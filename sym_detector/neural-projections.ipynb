{
 "cells": [
  {
   "cell_type": "code",
   "execution_count": 1,
   "metadata": {},
   "outputs": [
    {
     "name": "stdout",
     "output_type": "stream",
     "text": [
      "Populating the interactive namespace from numpy and matplotlib\n"
     ]
    },
    {
     "name": "stderr",
     "output_type": "stream",
     "text": [
      "Using TensorFlow backend.\n"
     ]
    }
   ],
   "source": [
    "%pylab inline --no-import-all\n",
    "import cv2\n",
    "import keras\n",
    "import tensorflow as tf\n",
    "from keras.layers import *\n",
    "from keras.models import Sequential, Model\n",
    "import keras.backend as K\n",
    "import sys\n",
    "import os\n",
    "import skimage\n",
    "import skimage.transform\n",
    "import skimage.exposure"
   ]
  },
  {
   "cell_type": "code",
   "execution_count": 22,
   "metadata": {},
   "outputs": [
    {
     "name": "stdout",
     "output_type": "stream",
     "text": [
      "(25, 100)\n"
     ]
    },
    {
     "data": {
      "image/png": "[encoded data removed]",
      "text/plain": [
       "<matplotlib.figure.Figure at 0x7f5b44184f60>"
      ]
     },
     "metadata": {},
     "output_type": "display_data"
    }
   ],
   "source": [
    "sample_img = cv2.cvtColor(plt.imread(os.path.join(\"data/rus/segmentation/src/\", os.listdir(\"data/rus/segmentation/src\")[0])),\n",
    "                          cv2.COLOR_RGBA2GRAY)\n",
    "plt.imshow(sample_img, cmap='gray')\n",
    "print(sample_img.shape)"
   ]
  },
  {
   "cell_type": "code",
   "execution_count": 21,
   "metadata": {
    "collapsed": true
   },
   "outputs": [],
   "source": [
    "input_dim = (100, 25, 1)\n",
    "output_dim = (100, 1)\n",
    "image_area = input_dim[0] * input_dim[1]"
   ]
  },
  {
   "cell_type": "code",
   "execution_count": 142,
   "metadata": {
    "collapsed": true
   },
   "outputs": [],
   "source": [
    "def train_data_gen(srcPath, dstPath, inputDim, outputDim, batchSize=100):\n",
    "    srcs = np.zeros((batchSize, *inputDim))\n",
    "    dsts = np.zeros((batchSize, *outputDim))\n",
    "    \n",
    "    for idx, src_node in enumerate(os.scandir(srcPath)):\n",
    "        i = idx % batchSize\n",
    "        src = cv2.cvtColor(plt.imread(src_node.path), cv2.COLOR_RGBA2GRAY)\n",
    "        dst = cv2.cvtColor(plt.imread(os.path.join(dstPath, src_node.name)), cv2.COLOR_RGBA2GRAY)\n",
    "        srcs[i, :] = src.reshape(inputDim)\n",
    "        dsts[i, :] = dst.reshape(outputDim)\n",
    "        if len(srcs) == batchSize:\n",
    "            yield srcs, dsts\n",
    "    yield srcs, dsts"
   ]
  },
  {
   "cell_type": "code",
   "execution_count": 148,
   "metadata": {},
   "outputs": [
    {
     "name": "stdout",
     "output_type": "stream",
     "text": [
      "(1, 100, 25, 1) (1, 100, 1)\n"
     ]
    },
    {
     "data": {
      "image/png": "[encoded data removed]",
      "text/plain": [
       "<matplotlib.figure.Figure at 0x7f5ae4717780>"
      ]
     },
     "metadata": {},
     "output_type": "display_data"
    }
   ],
   "source": [
    "src_path = \"data/rus/segmentation/src/\"\n",
    "dst_path = \"data/rus/segmentation/dst/\"\n",
    "\n",
    "for X, Y in train_data_gen(src_path, dst_path, input_dim, output_dim, batchSize=1):\n",
    "    src = X\n",
    "    dst = Y\n",
    "    print(src.shape, dst.shape)\n",
    "    plt.subplot(211)\n",
    "    plt.imshow(src.reshape(input_dim[0:2][::-1]), cmap='hot_r')\n",
    "    plt.axis(\"off\")\n",
    "    plt.subplot(212)\n",
    "    plt.imshow(dst.reshape(output_dim[:2][::-1]), cmap='gray')\n",
    "    plt.axis(\"off\")\n",
    "    plt.subplots_adjust(hspace=-0.7)\n",
    "    break"
   ]
  },
  {
   "cell_type": "code",
   "execution_count": 172,
   "metadata": {},
   "outputs": [
    {
     "name": "stdout",
     "output_type": "stream",
     "text": [
      "Tensor(\"output_10/Sigmoid:0\", shape=(?, 100, 1), dtype=float32)\n"
     ]
    }
   ],
   "source": [
    "from keras.objectives import binary_crossentropy\n",
    "\n",
    "first_layer_filters = 32\n",
    "second_layer_filters = 16\n",
    "rnn_height = 16\n",
    "rnn_units = 32\n",
    "pre_rnn_shape = (input_dim[0], input_dim[1] * second_layer_filters)\n",
    "\n",
    "inp = Input(shape=input_dim, name='input')\n",
    "conv = Conv2D(first_layer_filters, (3, 3), input_shape=input_dim, activation='relu',\n",
    "              name='conv1', padding='same', kernel_initializer='he_normal')(inp)\n",
    "conv = Conv2D(second_layer_filters, (3, 3), activation='relu',\n",
    "              name='conv2', padding='same', kernel_initializer='he_normal')(conv)\n",
    "rnn = Reshape(pre_rnn_shape)(conv)\n",
    "rnn = Dense(rnn_height, activation='relu')(rnn)\n",
    "gru1 = GRU(rnn_units, return_sequences=True)(rnn)\n",
    "gru2 = GRU(rnn_units, return_sequences=True, go_backwards=True)(rnn)\n",
    "rnn = Add()([gru1, gru2])\n",
    "out = Dense(1, activation='sigmoid', kernel_initializer='he_normal', name='output')(rnn)\n",
    "print(out)\n",
    "\n",
    "model = Model(inp, out)\n",
    "\n",
    "model.compile('adam', 'binary_crossentropy', metrics=['binary_accuracy'])"
   ]
  },
  {
   "cell_type": "code",
   "execution_count": 175,
   "metadata": {},
   "outputs": [
    {
     "name": "stdout",
     "output_type": "stream",
     "text": [
      "Epoch 1/3\n",
      "303/303 [==============================] - 29s - loss: 0.3582 - binary_accuracy: 0.8323    \n",
      "Epoch 2/3\n",
      "303/303 [==============================] - 29s - loss: 0.3574 - binary_accuracy: 0.8332    \n",
      "Epoch 3/3\n",
      "303/303 [==============================] - 28s - loss: 0.3986 - binary_accuracy: 0.7993    \n"
     ]
    }
   ],
   "source": [
    "from progressbar import FormatCustomText, ProgressBar, Counter, Bar\n",
    "\n",
    "def train(model, dataset, batch_size=10, epochs=1):\n",
    "    src_path = f\"data/{dataset}/segmentation/src/\"\n",
    "    dst_path = f\"data/{dataset}/segmentation/dst/\"\n",
    "\n",
    "    train_count = len(os.listdir(dst_path))\n",
    "    train_batches = train_count // batch_size\n",
    "\n",
    "    model.fit_generator(train_data_gen(src_path, dst_path, input_dim, output_dim, batch_size),\n",
    "                        epochs=epochs, steps_per_epoch=train_batches)\n",
    "    return\n",
    "    for epoch in range(epochs):\n",
    "        counter = Counter()\n",
    "        text = FormatCustomText('loss: %(loss).6f, acc: %(acc).6f', mapping={\"loss\": 1, \"acc\": 0})\n",
    "        progress = ProgressBar(widgets=['[' , counter, '/' , str(train_batches), '] ', Bar(), text], \n",
    "                               min_value = 1,\n",
    "                               max_value=train_batches,\n",
    "                               marker='-')\n",
    "\n",
    "        with sess.as_default():\n",
    "            for x, y in progress(train_data_gen(src_path, dst_path, input_dim, output_dim, batch_size)):\n",
    "                _, loss_value, acc_value = sess.run([train_step, loss, accuracy], feed_dict={inp: X, out: Y})\n",
    "                text.update_mapping(loss=loss_value, acc=acc_value)\n",
    "\n",
    "    \n",
    "train(model, \"rus\", 4, 3)\n",
    "#train(\"bel\", 10, 1)"
   ]
  },
  {
   "cell_type": "code",
   "execution_count": 176,
   "metadata": {},
   "outputs": [
    {
     "data": {
      "image/png": "[encoded data removed]",
      "text/plain": [
       "<matplotlib.figure.Figure at 0x7f5ae285d748>"
      ]
     },
     "metadata": {},
     "output_type": "display_data"
    }
   ],
   "source": [
    "def plot_predictions(dataset, idx=0):\n",
    "    src_path = f\"data/{dataset}/segmentation/src\"\n",
    "    dst_path = f\"data/{dataset}/segmentation/dst\"\n",
    "    \n",
    "    gen = train_data_gen(src_path, dst_path, input_dim, output_dim, batchSize=1)\n",
    "    for src, dst in gen:\n",
    "        predicted = model.predict(src)\n",
    "        plt.subplot(411)\n",
    "        plt.imshow(src.reshape(input_dim[:2][::-1]), cmap='gray')\n",
    "        plt.axis(\"off\")\n",
    "        plt.subplot(412)\n",
    "        plt.imshow(predicted.reshape(output_dim[:2][::-1]) * 255, cmap='gray')\n",
    "        plt.axis(\"off\")\n",
    "        plt.subplot(413)\n",
    "        plt.axis(\"off\")\n",
    "        plt.imshow(np.where(predicted > 0.5, 1, 0).reshape(output_dim[:2][::-1]), cmap='gray')\n",
    "        plt.subplot(414)\n",
    "        plt.axis(\"off\")\n",
    "        plt.imshow(dst.reshape(output_dim[:2][::-1]), cmap='gray')\n",
    "        plt.subplots_adjust(hspace=-0.5)\n",
    "        break\n",
    "    \n",
    "\n",
    "plot_predictions(\"bel\", np.random.randint(100))"
   ]
  },
  {
   "cell_type": "code",
   "execution_count": 177,
   "metadata": {},
   "outputs": [
    {
     "data": {
      "image/png": "[encoded data removed]",
      "text/plain": [
       "<matplotlib.figure.Figure at 0x7f5ae27e3b00>"
      ]
     },
     "metadata": {},
     "output_type": "display_data"
    }
   ],
   "source": [
    "plot_predictions(\"rus\", np.random.randint(100))"
   ]
  },
  {
   "cell_type": "code",
   "execution_count": 181,
   "metadata": {},
   "outputs": [
    {
     "name": "stdout",
     "output_type": "stream",
     "text": [
      "23.8 ms ± 2.98 ms per loop (mean ± std. dev. of 7 runs, 10 loops each)\n"
     ]
    }
   ],
   "source": [
    "src_path = \"data/rus/segmentation/src/\"\n",
    "dst_path = \"data/rus/segmentation/dst/\"\n",
    "\n",
    "gen = train_data_gen(src_path, dst_path, input_dim, output_dim, batchSize=10)\n",
    "src, dst = next(gen)\n",
    "\n",
    "%timeit model.predict(src)"
   ]
  }
 ],
 "metadata": {
  "kernelspec": {
   "display_name": "Python 3",
   "language": "python",
   "name": "python3"
  },
  "language_info": {
   "codemirror_mode": {
    "name": "ipython",
    "version": 3
   },
   "file_extension": ".py",
   "mimetype": "text/x-python",
   "name": "python",
   "nbconvert_exporter": "python",
   "pygments_lexer": "ipython3",
   "version": "3.6.2"
  }
 },
 "nbformat": 4,
 "nbformat_minor": 2
}
